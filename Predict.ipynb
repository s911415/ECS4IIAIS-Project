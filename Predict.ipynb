{
 "cells": [
  {
   "cell_type": "code",
   "execution_count": 1,
   "metadata": {},
   "outputs": [],
   "source": [
    "import sys\n",
    "import os\n",
    "TF_RCNN_PATH = \"T:/lab6/tf-faster-rcnn-windows\""
   ]
  },
  {
   "cell_type": "code",
   "execution_count": 2,
   "metadata": {},
   "outputs": [],
   "source": [
    "sys.path.append(os.path.join(TF_RCNN_PATH, \"\"))\n",
    "sys.path.append(os.path.join(TF_RCNN_PATH, \"lib\"))\n",
    "sys.path.append(os.path.join(TF_RCNN_PATH, \"tools\"))"
   ]
  },
  {
   "cell_type": "code",
   "execution_count": 3,
   "metadata": {},
   "outputs": [],
   "source": [
    "from __future__ import absolute_import\n",
    "from __future__ import division\n",
    "from __future__ import print_function\n",
    "\n",
    "import _init_paths\n",
    "from model.config import cfg\n",
    "from model.test import im_detect\n",
    "from model.nms_wrapper import nms\n",
    "\n",
    "from utils.timer import Timer\n",
    "import tensorflow as tf\n",
    "import matplotlib.pyplot as plt\n",
    "import numpy as np\n",
    "import os, cv2, io, json\n",
    "import argparse\n",
    "from matplotlib import pyplot as plt\n",
    "\n",
    "from nets.mobilenet_v1 import mobilenetv1\n",
    "from nets.resnet_v1 import resnetv1"
   ]
  },
  {
   "cell_type": "code",
   "execution_count": 4,
   "metadata": {},
   "outputs": [],
   "source": [
    "CLASSES = ('__background__',\n",
    "           '1', '5', '10', '50')\n",
    "# MODEL_PATH = os.path.join(TF_RCNN_PATH, \"output/mobile/voc_2007_trainval/default/mobile_faster_rcnn_iter_100.ckpt\")\n",
    "MODEL_PATH = os.path.join(TF_RCNN_PATH, \"output/res101/voc_2007_trainval/default/web/res101_faster_rcnn_iter_110000.ckpt\")\n",
    "\n",
    "# from train_faster_rcnn\n",
    "ANCHOR_SCALES = [8, 16, 32]\n",
    "ANCHOR_RATIOS = [0.5, 1, 2]\n",
    "CONF_THRESH = 0.8\n",
    "NMS_THRESH = 0.3"
   ]
  },
  {
   "cell_type": "code",
   "execution_count": 5,
   "metadata": {},
   "outputs": [
    {
     "name": "stdout",
     "output_type": "stream",
     "text": [
      "T:/lab6/tf-faster-rcnn-windows\\output/res101/voc_2007_trainval/default/web/res101_faster_rcnn_iter_110000.ckpt\n"
     ]
    }
   ],
   "source": [
    "cfg.TEST.HAS_RPN = True  # Use RPN for proposals\n",
    "cfg.USE_GPU_NMS =False\n",
    "\n",
    "# model path\n",
    "tfmodel = MODEL_PATH\n",
    "\n",
    "print(tfmodel)\n",
    "if not os.path.isfile(tfmodel + '.meta'):\n",
    "    raise IOError(('{:s} not found.\\nDid you download the proper networks from '\n",
    "                   'our server and place them properly?').format(tfmodel + '.meta'))"
   ]
  },
  {
   "cell_type": "code",
   "execution_count": 6,
   "metadata": {},
   "outputs": [],
   "source": [
    "sess = None"
   ]
  },
  {
   "cell_type": "code",
   "execution_count": 7,
   "metadata": {},
   "outputs": [
    {
     "name": "stdout",
     "output_type": "stream",
     "text": [
      "INFO:tensorflow:Restoring parameters from T:/lab6/tf-faster-rcnn-windows\\output/res101/voc_2007_trainval/default/web/res101_faster_rcnn_iter_110000.ckpt\n",
      "Loaded network T:/lab6/tf-faster-rcnn-windows\\output/res101/voc_2007_trainval/default/web/res101_faster_rcnn_iter_110000.ckpt\n"
     ]
    }
   ],
   "source": [
    "# set config\n",
    "tfconfig = tf.ConfigProto(allow_soft_placement=True)\n",
    "tfconfig.gpu_options.allow_growth = True\n",
    "\n",
    "if not sess is None:\n",
    "    sess.close()\n",
    "    tf.reset_default_graph()\n",
    "\n",
    "# init session\n",
    "sess = tf.Session(config=tfconfig)\n",
    "# load network\n",
    "net = resnetv1(num_layers=101)\n",
    "# net = mobilenetv1()\n",
    "net.create_architecture(\"TEST\", 21, tag='default', \n",
    "                        anchor_scales=cfg.ANCHOR_SCALES, \n",
    "                        anchor_ratios=cfg.ANCHOR_RATIOS\n",
    ")\n",
    "saver = tf.train.Saver()\n",
    "saver.restore(sess, tfmodel)\n",
    "\n",
    "print('Loaded network {:s}'.format(tfmodel))\n"
   ]
  },
  {
   "cell_type": "code",
   "execution_count": null,
   "metadata": {},
   "outputs": [],
   "source": []
  },
  {
   "cell_type": "code",
   "execution_count": 8,
   "metadata": {},
   "outputs": [],
   "source": [
    "def show_image(im):\n",
    "    plt.imshow(im[:,:,::-1])"
   ]
  },
  {
   "cell_type": "code",
   "execution_count": 9,
   "metadata": {},
   "outputs": [],
   "source": [
    "# im = cv2.imread(\"T:/lab6/tf-faster-rcnn-windows/data/demo/004545.jpg\")\n",
    "# show_image(im)\n"
   ]
  },
  {
   "cell_type": "code",
   "execution_count": 10,
   "metadata": {},
   "outputs": [],
   "source": [
    "def predict_and_write(img_bytes, dst_buffer):\n",
    "    im = cv2.imdecode(np.asarray(bytearray(img_bytes), dtype=np.uint8), 1)\n",
    "    # im = cv2.imread(img_path)\n",
    "    scores, boxes = im_detect(sess, net, im)\n",
    "    # test used\n",
    "    CLASSES = ('__background__',\n",
    "               'aeroplane', 'bicycle', 'bird', 'boat',\n",
    "               'bottle', 'bus', 'car', 'cat', 'chair',\n",
    "               'cow', 'diningtable', 'dog', 'horse',\n",
    "               'motorbike', 'person', 'pottedplant',\n",
    "               'sheep', 'sofa', 'train', 'tvmonitor')\n",
    "\n",
    "    cloned_im = im.copy()\n",
    "    cloned_im = cloned_im[:, :, (2, 1, 0)]\n",
    "    predicted_data = []\n",
    "\n",
    "    for cls_ind in range(1, len(CLASSES)):\n",
    "        class_name = CLASSES[cls_ind]\n",
    "        cls_boxes = boxes[:, 4*cls_ind:4*(cls_ind + 1)]\n",
    "        cls_scores = scores[:, cls_ind]\n",
    "        dets = np.hstack((cls_boxes,\n",
    "                          cls_scores[:, np.newaxis])).astype(np.float32)\n",
    "        keep = nms(dets, NMS_THRESH)\n",
    "        dets = dets[keep, :]\n",
    "        thresh = CONF_THRESH\n",
    "\n",
    "\n",
    "        ###\n",
    "        inds = np.where(dets[:, -1] >= thresh)[0]\n",
    "        if len(inds) > 0:\n",
    "            # im = im[:, :, (2, 1, 0)]\n",
    "            for i in inds:\n",
    "                predicted_data.append((\n",
    "                    class_name,\n",
    "                    dets[i, :4],\n",
    "                    dets[i, -1]\n",
    "                ))\n",
    "\n",
    "    fig, ax = plt.subplots(figsize=(12, 12))\n",
    "    ax.imshow(cloned_im, aspect='equal')\n",
    "    for class_name, bbox, score in predicted_data:\n",
    "        ax.add_patch(\n",
    "                    plt.Rectangle((bbox[0], bbox[1]),\n",
    "                                  bbox[2] - bbox[0],\n",
    "                                  bbox[3] - bbox[1], fill=False,\n",
    "                                  edgecolor='red', linewidth=3.5)\n",
    "                    )\n",
    "        ax.text(bbox[0], bbox[1] - 2,\n",
    "                '{:s} {:.3f}'.format(class_name, score),\n",
    "                bbox=dict(facecolor='blue', alpha=0.5),\n",
    "                fontsize=14, color='white')\n",
    "\n",
    "    plt.axis('off')\n",
    "    plt.tight_layout()\n",
    "    fig.savefig(dst_buffer)\n",
    "    dst_buffer.seek(0)\n",
    "    \n",
    "    return predicted_data, dst_buffer"
   ]
  },
  {
   "cell_type": "code",
   "execution_count": 11,
   "metadata": {},
   "outputs": [],
   "source": [
    "# img_buffer = None\n",
    "# path = \"T:/lab6/tf-faster-rcnn-windows/data/demo/004545.jpg\"\n",
    "# with open(path, 'rb') as f:\n",
    "#     img_buffer = f.read()\n",
    "#     # im = cv2.imdecode(np.asarray(bytearray(img_buffer), dtype=np.uint8), 1)\n",
    "#     # cv2.imwrite(\"T:/aaa.jpg\", im)\n",
    "#     dst_buffer = io.BytesIO()\n",
    "#     predicted_data = predict_and_write(img_buffer, dst_buffer)\n",
    "#     with open('T:/aaa.jpg', 'wb') as f:  \n",
    "#         f.write(dst_buffer.read())"
   ]
  },
  {
   "cell_type": "code",
   "execution_count": 12,
   "metadata": {},
   "outputs": [],
   "source": [
    "from flask import Flask, request, Response\n",
    "\n",
    "app = Flask(__name__)\n",
    "\n",
    "\n",
    "class NumpyEncoder(json.JSONEncoder):\n",
    "    def default(self, obj):\n",
    "        if isinstance(obj, np.ndarray):\n",
    "            return obj.tolist()\n",
    "        return json.JSONEncoder.default(self, obj)\n",
    "\n",
    "\n",
    "@app.route('/')\n",
    "def hello():\n",
    "    return \"Hello World!\"\n",
    "\n",
    "\n",
    "@app.route('/predict', methods=['POST'])\n",
    "def predict():\n",
    "    file = request.files['im']\n",
    "    bytes_data = file.stream.read()\n",
    "    predicted_data, dst_buffer = predict_and_write(bytes_data, io.BytesIO())\n",
    "    #with open('T:/aaa.jpg', 'wb') as f:\n",
    "    #    f.write(dst_buffer.read())\n",
    "    resp = Response(dst_buffer, mimetype='image/jpeg')\n",
    "    labels = list(\n",
    "        map(lambda x: {\n",
    "            'label': x[0],\n",
    "            ## 'bbox': x[1],\n",
    "            'score': float(x[2])\n",
    "        }, predicted_data)\n",
    "    )\n",
    "    resp.headers['data'] = json.dumps(labels, ensure_ascii=False)\n",
    "    return resp\n",
    "\n"
   ]
  },
  {
   "cell_type": "code",
   "execution_count": null,
   "metadata": {},
   "outputs": [
    {
     "name": "stdout",
     "output_type": "stream",
     "text": [
      " * Serving Flask app \"__main__\" (lazy loading)\n",
      " * Environment: production\n",
      "   WARNING: Do not use the development server in a production environment.\n",
      "   Use a production WSGI server instead.\n",
      " * Debug mode: off\n"
     ]
    },
    {
     "name": "stderr",
     "output_type": "stream",
     "text": [
      " * Running on http://127.0.0.1:5000/ (Press CTRL+C to quit)\n",
      "127.0.0.1 - - [04/Jan/2019 14:55:29] \"\u001b[37mPOST /predict HTTP/1.1\u001b[0m\" 200 -\n"
     ]
    }
   ],
   "source": [
    "if __name__ == '__main__':\n",
    "    app.run(debug=False)"
   ]
  },
  {
   "cell_type": "code",
   "execution_count": null,
   "metadata": {},
   "outputs": [],
   "source": []
  },
  {
   "cell_type": "code",
   "execution_count": null,
   "metadata": {},
   "outputs": [],
   "source": []
  },
  {
   "cell_type": "code",
   "execution_count": null,
   "metadata": {},
   "outputs": [],
   "source": []
  },
  {
   "cell_type": "code",
   "execution_count": null,
   "metadata": {},
   "outputs": [],
   "source": [
    "cv2.destroyAllWindows()"
   ]
  }
 ],
 "metadata": {
  "kernelspec": {
   "display_name": "Python 3",
   "language": "python",
   "name": "python3"
  },
  "language_info": {
   "codemirror_mode": {
    "name": "ipython",
    "version": 3
   },
   "file_extension": ".py",
   "mimetype": "text/x-python",
   "name": "python",
   "nbconvert_exporter": "python",
   "pygments_lexer": "ipython3",
   "version": "3.6.7"
  }
 },
 "nbformat": 4,
 "nbformat_minor": 2
}
